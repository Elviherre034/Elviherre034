{
  "nbformat": 4,
  "nbformat_minor": 0,
  "metadata": {
    "colab": {
      "provenance": [],
      "authorship_tag": "ABX9TyOuILMxa2pWpmDEMSBwjx5w",
      "include_colab_link": true
    },
    "kernelspec": {
      "name": "python3",
      "display_name": "Python 3"
    },
    "language_info": {
      "name": "python"
    }
  },
  "cells": [
    {
      "cell_type": "markdown",
      "metadata": {
        "id": "view-in-github",
        "colab_type": "text"
      },
      "source": [
        "<a href=\"https://colab.research.google.com/github/Elviherre034/Elviherre034/blob/main/Copia_de_Untitled0.ipynb\" target=\"_parent\"><img src=\"https://colab.research.google.com/assets/colab-badge.svg\" alt=\"Open In Colab\"/></a>"
      ]
    },
    {
      "cell_type": "code",
      "execution_count": null,
      "metadata": {
        "colab": {
          "base_uri": "https://localhost:8080/"
        },
        "id": "iKoaL0XdBoa6",
        "outputId": "55c12300-b0c2-480e-8edf-9c2e3e1b6f87"
      },
      "outputs": [
        {
          "output_type": "stream",
          "name": "stdout",
          "text": [
            "Ingrese la temperatura del día 1: 30\n",
            "Ingrese la temperatura del día 2: 24\n",
            "Ingrese la temperatura del día 3: 20\n",
            "Ingrese la temperatura del día 4: 18\n",
            "Ingrese la temperatura del día 5: 16\n",
            "\n",
            "--- Resumen de la semana ---\n",
            "Temperaturas registradas: [30.0, 24.0, 20.0, 18.0, 16.0]\n",
            "Temperatura promedio: 21.60°C\n",
            "Temperatura máxima: 30.0°C\n",
            "Temperatura mínima: 16.0°C\n",
            "Días con más de 25°C: 1\n"
          ]
        }
      ],
      "source": [
        "# Registro de temperaturas\n",
        "\n",
        "# 1. Solicitar la temperatura de 5 días consecutivos\n",
        "temperaturas = []\n",
        "for i in range(5):\n",
        "    temp = float(input(f\"Ingrese la temperatura del día {i+1}: \"))\n",
        "    temperaturas.append(temp)\n",
        "\n",
        "# 2. Calcular promedio, máxima y mínima\n",
        "promedio = sum(temperaturas) / len(temperaturas)\n",
        "maxima = max(temperaturas)\n",
        "minima = min(temperaturas)\n",
        "\n",
        "# 3. Contar días con temperatura mayor a 25°C\n",
        "dias_calidos = sum(1 for t in temperaturas if t > 25)\n",
        "\n",
        "# 4. Mostrar resumen\n",
        "print(\"\\n--- Resumen de la semana ---\")\n",
        "print(f\"Temperaturas registradas: {temperaturas}\")\n",
        "print(f\"Temperatura promedio: {promedio:.2f}°C\")\n",
        "print(f\"Temperatura máxima: {maxima}°C\")\n",
        "print(f\"Temperatura mínima: {minima}°C\")\n",
        "print(f\"Días con más de 25°C: {dias_calidos}\")\n"
      ]
    },
    {
      "cell_type": "markdown",
      "source": [],
      "metadata": {
        "id": "3tmbu9lvB5ph"
      }
    },
    {
      "cell_type": "code",
      "source": [
        "\n",
        "10\n",
        "14\n",
        "15\n",
        "12\n",
        "25"
      ],
      "metadata": {
        "colab": {
          "base_uri": "https://localhost:8080/"
        },
        "id": "JeZZ7drvCBni",
        "outputId": "f96c03bf-b7f8-4ff6-a758-6bc7dd763fd2"
      },
      "execution_count": null,
      "outputs": [
        {
          "output_type": "execute_result",
          "data": {
            "text/plain": [
              "25"
            ]
          },
          "metadata": {},
          "execution_count": 2
        }
      ]
    },
    {
      "cell_type": "markdown",
      "source": [],
      "metadata": {
        "id": "mpU_VeK1CCKP"
      }
    }
  ]
}